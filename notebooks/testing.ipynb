{
 "cells": [
  {
   "cell_type": "code",
   "execution_count": 1,
   "metadata": {},
   "outputs": [
    {
     "ename": "SyntaxError",
     "evalue": "invalid syntax. Perhaps you forgot a comma? (702897509.py, line 6)",
     "output_type": "error",
     "traceback": [
      "\u001b[1;36m  Cell \u001b[1;32mIn[1], line 6\u001b[1;36m\u001b[0m\n\u001b[1;33m    ...                                                     random_state=1)\u001b[0m\n\u001b[1;37m    ^\u001b[0m\n\u001b[1;31mSyntaxError\u001b[0m\u001b[1;31m:\u001b[0m invalid syntax. Perhaps you forgot a comma?\n"
     ]
    }
   ],
   "source": []
  },
  {
   "attachments": {},
   "cell_type": "markdown",
   "metadata": {},
   "source": []
  },
  {
   "cell_type": "code",
   "execution_count": null,
   "metadata": {},
   "outputs": [
    {
     "ename": "SyntaxError",
     "evalue": "invalid syntax. Perhaps you forgot a comma? (981663853.py, line 3)",
     "output_type": "error",
     "traceback": [
      "\u001b[1;36m  Cell \u001b[1;32mIn[7], line 3\u001b[1;36m\u001b[0m\n\u001b[1;33m    ...                     hidden_layer_sizes=(5, 2), random_state=1)\u001b[0m\n\u001b[1;37m    ^\u001b[0m\n\u001b[1;31mSyntaxError\u001b[0m\u001b[1;31m:\u001b[0m invalid syntax. Perhaps you forgot a comma?\n"
     ]
    }
   ],
   "source": [
    "def ANN(self, X_train, X_test, y_train, y_test):\n",
    "    #Create DT model\n",
    "    DT_classifier2 = MLPClassifier()\n",
    "\n",
    "    #Train the model\n",
    "    DT_classifier2.fit(X_train, y_train)\n",
    "\n",
    "    #Test the model\n",
    "    DT_predicted2 = DT_classifier2.predict(X_test)\n",
    "\n",
    "    error2 = 0\n",
    "    for i in range(len(y_test)):\n",
    "        error2 += np.sum(DT_predicted2 != y_test)\n",
    "\n",
    "    total_accuracy2 = 1 - error2 / len(y_test)\n",
    "\n",
    "    #get performance\n",
    "    self.accuracy2 = accuracy_score(y_test, DT_predicted2)\n",
    "\n",
    "    return DT_classifier2"
   ]
  }
 ],
 "metadata": {
  "kernelspec": {
   "display_name": "myenv",
   "language": "python",
   "name": "python3"
  },
  "language_info": {
   "codemirror_mode": {
    "name": "ipython",
    "version": 3
   },
   "file_extension": ".py",
   "mimetype": "text/x-python",
   "name": "python",
   "nbconvert_exporter": "python",
   "pygments_lexer": "ipython3",
   "version": "3.10.9"
  },
  "orig_nbformat": 4,
  "vscode": {
   "interpreter": {
    "hash": "627f0b05160b357a8475dba8e8f8e926f8a32a16d88e906205d58b7bdb2eabb8"
   }
  }
 },
 "nbformat": 4,
 "nbformat_minor": 2
}
